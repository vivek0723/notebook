{
 "cells": [
  {
   "cell_type": "markdown",
   "metadata": {},
   "source": [
    "<img src=\"http://imgur.com/1ZcRyrc.png\" style=\"float: left; margin: 20px; height: 55px\">\n",
    "\n",
    "# Project 1: Python Coding Exercises\n",
    "\n",
    "_Authors: Joseph Nelson (DC) _\n",
    "\n",
    "---"
   ]
  },
  {
   "cell_type": "markdown",
   "metadata": {},
   "source": [
    "The following code challenges are drawn from common exercises used in technical interviews.\n",
    "\n",
    "Please note that there may be several ways to approach each challenge. If you get stuck, try mapping out your approach in pseudocode first. Finally, while solutions to problems like these may be found online, remember that if you copy/paste code that you can't explain, you'll be missing out on the point of the project. The only way to truly learn a new skill is through practice, trial, and error - we can only help you improve by understanding where you are having trouble."
   ]
  },
  {
   "cell_type": "markdown",
   "metadata": {},
   "source": [
    "### Challenge 1: Largest Palindrome\n",
    "A palindromic number reads the same both ways. For example, 1234321 is a palindrome. The largest palindrome made from the product of two two-digit numbers is 9009 = 91 × 99. Find the largest palindrome made from the product of two three-digit numbers. Afterward, write a brief explanation walking through your code's logic in markdown."
   ]
  },
  {
   "cell_type": "code",
   "execution_count": 65,
   "metadata": {},
   "outputs": [
    {
     "data": {
      "text/plain": [
       "906609"
      ]
     },
     "execution_count": 65,
     "metadata": {},
     "output_type": "execute_result"
    }
   ],
   "source": [
    "#need to find where product is same forward and backward. need to also find where it's the largest that it can be\n",
    "pal=[]\n",
    "prod =[]\n",
    "for n1 in range(99,1000):\n",
    "    for n2 in range (99,1000):\n",
    "        prod1=str(n1*n2)\n",
    "        prod.append(str(n1*n2))\n",
    "\n",
    "for prod1 in prod:\n",
    "    if prod1[::-1] == prod1:\n",
    "        pal.append(int(prod1[::-1]))\n",
    "\n",
    "max(pal)\n"
   ]
  },
  {
   "cell_type": "markdown",
   "metadata": {},
   "source": [
    "Explanation: \n",
    "I defined two lists (1) prod to hold all products of three digit numbers and (2) pal to hold all palindromes of the products. I defined n1 and n2 as ranges from 100 to 1000 so that we have 3 digit numbers. I created a product of n1 and n2 and made it a string so I can reverse it later. And I appended the products to the prod list\n",
    "\n",
    "For each product (prod1) in the prod list, I checked if reverse the string (prod1{::-1}) equals prod1. If so, append to pal list\n",
    "\n",
    "I then get max of pal list"
   ]
  },
  {
   "cell_type": "markdown",
   "metadata": {},
   "source": [
    "\n",
    "### Challenge 2: Summation of Primes\n",
    "The sum of the primes below 10 is 2 + 3 + 5 + 7 = 17. Find the sum of all the primes below 2,000. Afterward, write a brief explanation walking through your code's logic in markdown."
   ]
  },
  {
   "cell_type": "code",
   "execution_count": 29,
   "metadata": {},
   "outputs": [
    {
     "data": {
      "text/plain": [
       "277050"
      ]
     },
     "execution_count": 29,
     "metadata": {},
     "output_type": "execute_result"
    }
   ],
   "source": [
    "primes = set()\n",
    "for n in range(2,2000):\n",
    "    isPrime = True\n",
    "    for i in range(2,n):\n",
    "        if n%i==0:\n",
    "            isPrime = False\n",
    "    if isPrime == True:\n",
    "        primes.add(n)\n",
    "sum(primes)   \n"
   ]
  },
  {
   "cell_type": "markdown",
   "metadata": {},
   "source": [
    "Explanation:\n",
    "n is any number between 2-1999 because 1 is not considered a prime number. I set default value that prime value is true and then will check if it's false so that I can make sure to not get non-prime numbers. Set i to number between 2 and n. I then check if n/i has no remainder, if it does, then change isPrime to False. I add all isPrime numbers to set of primes so that we don't have duplicates and then sum the set"
   ]
  },
  {
   "cell_type": "markdown",
   "metadata": {},
   "source": [
    "### Challenge 3: Multiples of 3 and 5\n",
    "If we list all of the natural numbers below 10 that are multiples of 3 or 5, we get 3, 5, 6, and 9. The sum of these multiples is 23. Find the sum of all the multiples of 3 and 5 below 1,000. Afterward, write a brief explanation walking through your code's logic in markdown."
   ]
  },
  {
   "cell_type": "code",
   "execution_count": 30,
   "metadata": {},
   "outputs": [
    {
     "data": {
      "text/plain": [
       "233168"
      ]
     },
     "execution_count": 30,
     "metadata": {},
     "output_type": "execute_result"
    }
   ],
   "source": [
    "mult = [3,5]\n",
    "list1 = set()\n",
    "for n in range(1,1000):\n",
    "    for i in mult:\n",
    "        if n%i==0:\n",
    "            list1.add(n)\n",
    "        else:\n",
    "            pass\n",
    "sum(list1)\n"
   ]
  },
  {
   "cell_type": "markdown",
   "metadata": {},
   "source": [
    "Explanation:\n",
    "I created a list of multiple 3 and 5 and set sum variable to 0. I created a set called list1 so we don't have duplicates. I iterated through the numbers from 1-999 and looked through muliples in mult list. I then divided each number in range with each number in mult and found where there was no remainder. Then I add those to the set called list1 and summed list1. "
   ]
  },
  {
   "cell_type": "markdown",
   "metadata": {},
   "source": [
    "### Challenge 4: String Compressor\n",
    "Implement a method to perform basic string compression using the counts of repeated characters. (This is called run-length encoding.) For example, the string \"aabcccccaaa\" would become a2b1c5a3. If the “compressed” string would not become smaller than the original string, your method should return the original string. You can assume the string has only uppercase and lowercase letters (a–z). Specify whether your solution is case sensitive or case insensitive and what you would need to change to make it the other. Afterward, write a brief explanation walking through your code's logic in markdown."
   ]
  },
  {
   "cell_type": "code",
   "execution_count": 196,
   "metadata": {},
   "outputs": [
    {
     "name": "stdout",
     "output_type": "stream",
     "text": [
      "a2b1c5a1\n"
     ]
    }
   ],
   "source": [
    "string = 'aabccccca'\n",
    "count = 0\n",
    "result = []\n",
    "last_letter = string[0]\n",
    "\n",
    "\n",
    "for a in string:\n",
    "    if a == last_letter:\n",
    "        count+=1\n",
    "    else:\n",
    "        result.append(last_letter + str(count))\n",
    "        count = 1\n",
    "    last_letter = a\n",
    "result.append(last_letter + str(count))\n",
    "    \n",
    "new_string = ''.join(result)\n",
    "\n",
    "if len(new_string)>len(string):\n",
    "    print(string)\n",
    "else:\n",
    "    print(new_string)"
   ]
  },
  {
   "cell_type": "markdown",
   "metadata": {},
   "source": [
    "Explanation:\n",
    "I first set my parameters, where i assign the value of variable string, start with count = 0, make a blank list and call it result, and define last letter as the first letter in the variable string. I iterate through the string and find where the letter equals the last_letter. If it does, I'm basically counting the number of times a repeated letter shows up. If there isn't a repeated letter, I append the last_letter with the string count to my result list and I force count back to 1 because we are starting from from a new letter and there wouldn't be any repeated letters. The loop will then go back to the if block and check if the next letter (a) matches the prev letter (the new letter we just found in the else block). Finally at the end of the iteration, we are left with all the letters except the last letter and its count. Since we set last_letter = a, we can append the last_letter and string count and will get the last character's character and count. I join the list together with no spaces and create a new veriable as new_string. I then check if number of characters in new_string is greater than number of characters in old string, if so just print the original string since it's shorter. If not, print the new string because it's shorter. My code is case sensitive meaning if we had a string of boths capitals and lowercase it would read each as it's own character. To make it case insensitive, we would probably define a function and force string to lower case in the fuction so that no matter what the string value was, we would treat it as lower case and get the string compressor values. "
   ]
  },
  {
   "cell_type": "markdown",
   "metadata": {},
   "source": [
    "### *BONUS* Challenge: FizzBuzz\n",
    "Write a program that prints all of the numbers from 1 to 100. For multiples of 3, instead of the number, print \"Fizz;\" for multiples of 5, print \"Buzz.\" For numbers that are multiples of both 3 and 5, print \"FizzBuzz.\" Afterward, write a brief explanation walking through your code's logic in markdown."
   ]
  },
  {
   "cell_type": "code",
   "execution_count": 68,
   "metadata": {},
   "outputs": [
    {
     "name": "stdout",
     "output_type": "stream",
     "text": [
      "[1, 2, 'Fizz', 4, 'Buzz', 'Fizz', 7, 8, 'Fizz', 'Buzz', 11, 'Fizz', 13, 14, 'FizzBuzz', 16, 17, 'Fizz', 19, 'Buzz', 'Fizz', 22, 23, 'Fizz', 'Buzz', 26, 'Fizz', 28, 29, 'FizzBuzz', 31, 32, 'Fizz', 34, 'Buzz', 'Fizz', 37, 38, 'Fizz', 'Buzz', 41, 'Fizz', 43, 44, 'FizzBuzz', 46, 47, 'Fizz', 49, 'Buzz', 'Fizz', 52, 53, 'Fizz', 'Buzz', 56, 'Fizz', 58, 59, 'FizzBuzz', 61, 62, 'Fizz', 64, 'Buzz', 'Fizz', 67, 68, 'Fizz', 'Buzz', 71, 'Fizz', 73, 74, 'FizzBuzz', 76, 77, 'Fizz', 79, 'Buzz', 'Fizz', 82, 83, 'Fizz', 'Buzz', 86, 'Fizz', 88, 89, 'FizzBuzz', 91, 92, 'Fizz', 94, 'Buzz', 'Fizz', 97, 98, 'Fizz']\n"
     ]
    }
   ],
   "source": [
    "numbers = list(range(1,100))\n",
    "for idx,n in enumerate(numbers):\n",
    "    if n%3==0 and n%5==0:\n",
    "        strn=str(n)\n",
    "        numbers[idx] = 'FizzBuzz'\n",
    "    elif n%5==0:\n",
    "        strn=str(n)\n",
    "        numbers[idx] = 'Buzz'\n",
    "    elif n%3==0: \n",
    "        strn=str(n)\n",
    "        numbers[idx] = 'Fizz'\n",
    "print(numbers)        \n",
    "      \n"
   ]
  },
  {
   "cell_type": "markdown",
   "metadata": {},
   "source": [
    "Explanation: \n",
    "I created a list of numbers from 1-100 and used idx and enumerator to tell me the number of each item in the list. I iterated through all items in range of numbers and check if n/3 and n/5 has no remainder, create a string of the n value and replace the value with FizzBuzz. Then check if n/5 has no remainder, create a string of the n value and replace the value with Buzz. Finally, check if n/3 has no remainder, create a string of the n value and replace the value with Fizz. Print the list"
   ]
  }
 ],
 "metadata": {
  "anaconda-cloud": {},
  "kernelspec": {
   "display_name": "Python 3",
   "language": "python",
   "name": "python3"
  },
  "language_info": {
   "codemirror_mode": {
    "name": "ipython",
    "version": 3
   },
   "file_extension": ".py",
   "mimetype": "text/x-python",
   "name": "python",
   "nbconvert_exporter": "python",
   "pygments_lexer": "ipython3",
   "version": "3.7.0"
  }
 },
 "nbformat": 4,
 "nbformat_minor": 2
}
